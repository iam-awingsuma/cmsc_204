{
  "nbformat": 4,
  "nbformat_minor": 0,
  "metadata": {
    "colab": {
      "provenance": [],
      "authorship_tag": "ABX9TyOi1mholctkpGPFbsxAN1OC",
      "include_colab_link": true
    },
    "kernelspec": {
      "name": "python3",
      "display_name": "Python 3"
    },
    "language_info": {
      "name": "python"
    }
  },
  "cells": [
    {
      "cell_type": "markdown",
      "metadata": {
        "id": "view-in-github",
        "colab_type": "text"
      },
      "source": [
        "<a href=\"https://colab.research.google.com/github/awingsumaBBx19093/cmsc_204/blob/main/Sumalinog_BST_and_AVL.ipynb\" target=\"_parent\"><img src=\"https://colab.research.google.com/assets/colab-badge.svg\" alt=\"Open In Colab\"/></a>"
      ]
    },
    {
      "cell_type": "markdown",
      "source": [
        "### **Programming Log 4: Binary Search Tree**\n",
        "##### Aldwin C. Sumalinog | CMSC 204 Data Structures & Algorithms"
      ],
      "metadata": {
        "id": "qglILqTN20fg"
      }
    },
    {
      "cell_type": "markdown",
      "source": [
        "### **Implementing Binary Search Tree (BST)**\n",
        "The code shown below is an implementation of Binary Search Tree (BST) based on codebasic's end of video challenge / coding exercise.\n",
        "\n",
        "The challenge requires the implementation of the following methods:\n",
        "\n",
        "```\n",
        "*   find_min() - locates the minimum element in entire binary tree\n",
        "*   find_max() - locates the maximum element in entire binary tree\n",
        "*   calc_sum() - calculates the sum of all elements in entire binary tree\n",
        "*   postOrder_traversal() - performs post order traversal of binary tree\n",
        "*   preOrder_traversal() - performs pre order traversal of binary tree\n",
        "```\n",
        "\n",
        "I have added an implementation of inorder traversal method on top of codebasic's challenge / coding exercise.\n",
        "\n",
        "```\n",
        "* inOrder_traversal() - performs inorder traversal of binary tree\n",
        "```\n"
      ],
      "metadata": {
        "id": "UT7ZqfcQgyu7"
      }
    },
    {
      "cell_type": "code",
      "execution_count": 7,
      "metadata": {
        "colab": {
          "base_uri": "https://localhost:8080/"
        },
        "id": "o74kitdaffSm",
        "outputId": "c8903a81-954f-4ef9-f1bf-1cc1f30acd21"
      },
      "outputs": [
        {
          "output_type": "stream",
          "name": "stdout",
          "text": [
            "Nodes/Elements: [15, 12, 7, 14, 27, 20, 23, 88]\n",
            "Minimum value in the binary tree is: 7\n",
            "Maximum value in the binary tree is: 88\n",
            "Sum of all elements/nodes in binary tree is: 206\n"
          ]
        }
      ],
      "source": [
        "# class implementation to represent the complete BST\n",
        "class BinarySearchTreeNode:\n",
        "    def __init__(self, data): # represents a node in the BST\n",
        "        self.data = data\n",
        "        self.left = None\n",
        "        self.right = None\n",
        "\n",
        "    def add_child(self, data): # inserts a node into the BST\n",
        "        if data == self.data:\n",
        "            return # node already exist\n",
        "\n",
        "        if data < self.data: # traversal of node from L-to-R\n",
        "            if self.left: # check if left node exist\n",
        "              # insert node as child of left node\n",
        "              self.left.add_child(data)\n",
        "            else:\n",
        "              # left node does not exist,\n",
        "              # left node will take the new node\n",
        "              self.left = BinarySearchTreeNode(data)\n",
        "        else:\n",
        "            if self.right: # check if right node exist\n",
        "              # insert node as child of right node\n",
        "              self.right.add_child(data)\n",
        "            else:\n",
        "              # right node does not exist,\n",
        "              # right node will take the new node\n",
        "              self.right = BinarySearchTreeNode(data)\n",
        "\n",
        "    def search(self, val):\n",
        "      \"\"\"\n",
        "      This method searches for the node\n",
        "      in the BST with its given value\n",
        "      \"\"\"\n",
        "      if self.data == val:\n",
        "        # value is equal to the root node, return True\n",
        "        return True\n",
        "      if val < self.data: # value is less than current node\n",
        "        if self.left:\n",
        "          return self.left.search(val) # search the left subtree\n",
        "        else:\n",
        "          return False # value not found in left subtree\n",
        "      if val > self.data: # value is greater than current node\n",
        "        if self.right:\n",
        "          return self.right.search(val) # search the right subtree\n",
        "        else:\n",
        "          return False # value not found in right subtree\n",
        "    \n",
        "    def find_min(self): # method to find the min value in BST\n",
        "      if not self.data:\n",
        "        return None\n",
        "      elif self.left is None: # left subtree has no nodes\n",
        "        _min = self.data # current node has min value\n",
        "      else:\n",
        "        # recursive call to find the min value in the left subtree\n",
        "        _min = self.left.find_min()\n",
        "      return _min\n",
        "\n",
        "    def find_max(self): # method to find the max value in BST\n",
        "      if not self.data:\n",
        "        return None\n",
        "      elif self.right is None: # right subtree has no nodes\n",
        "        _max = self.data # current node has max value\n",
        "      else:\n",
        "        # recursive call to find the max value in the right subtree\n",
        "        _max = self.right.find_max()\n",
        "      return _max\n",
        "\n",
        "    def calc_sum(self): # calculates the sum of elements in entire BST\n",
        "      if self.left: # left subtree contains nodes\n",
        "        # recursive call to calculate sum of nodes in left subtree\n",
        "        lsum = self.left.calc_sum()\n",
        "      else:\n",
        "        # left subtree has no nodes, sum is equal to 0\n",
        "        lsum = 0\n",
        "      \n",
        "      if self.right: # right subtree contains nodes\n",
        "        # recursive call to calculate sum of nodes in right subtree\n",
        "        rsum = self.right.calc_sum()\n",
        "      else:\n",
        "        # right subtree has no nodes, sum is equal to 0\n",
        "        rsum = 0\n",
        "      # compute sum of current node, left & right subtree nodes\n",
        "      ttlSum = self.data + lsum + rsum\n",
        "      return ttlSum\n",
        "\n",
        "    def postOrder_traversal(self): # traversal is Left->>Right->>Root\n",
        "      traversal = []\n",
        "      if self.left:\n",
        "        traversal += self.left.postOrder_traversal()\n",
        "      if self.right:\n",
        "        traversal += self.right.postOrder_traversal()\n",
        "      \n",
        "      traversal.append(self.data)\n",
        "      return traversal\n",
        "\n",
        "    def preOrder_traversal(self): # traversal is Root->>Left->>Right\n",
        "      traversal = [self.data]\n",
        "      if self.left:\n",
        "        traversal += self.left.preOrder_traversal()\n",
        "      if self.right:\n",
        "        traversal += self.right.preOrder_traversal()\n",
        "      \n",
        "      return traversal\n",
        "\n",
        "    def inOrder_traversal(self): # traversal is Left->>Root->>Right\n",
        "      traversal = []\n",
        "      if self.left:\n",
        "        traversal += self.left.inOrder_traversal()\n",
        "      traversal.append(self.data)\n",
        "\n",
        "      if self.right:\n",
        "        traversal += self.right.inOrder_traversal()\n",
        "      return traversal\n",
        "\n",
        "def build_tree(elements): # method to build the tree from array of numbers\n",
        "    root = BinarySearchTreeNode(elements[0])\n",
        "\n",
        "    for i in range(1,len(elements)): # add elements/nodes to binary tree\n",
        "        root.add_child(elements[i])\n",
        "\n",
        "    return root\n",
        "\n",
        "if __name__ == '__main__':\n",
        "    numbers = [15,12,7,14,27,20,23,88] # array of numbers as nodes of BT\n",
        "\n",
        "    numbers_tree = build_tree(numbers)\n",
        "    print(\"Nodes/Elements:\", numbers)\n",
        "    print(\"Minimum value in the binary tree is:\",numbers_tree.find_min())\n",
        "    print(\"Maximum value in the binary tree is:\",numbers_tree.find_max())\n",
        "    print(\"Sum of all elements/nodes in binary tree is:\", numbers_tree.calc_sum())"
      ]
    },
    {
      "cell_type": "markdown",
      "source": [
        "The binary tree structure of the given numbers or elements in our program is shown below.\n",
        "```\n",
        "            15\n",
        "           /  \\\n",
        "          12   27\n",
        "         /  \\    \\\n",
        "        7   14   88\n",
        "             \\\n",
        "             20\n",
        "              \\\n",
        "              23\n",
        "```"
      ],
      "metadata": {
        "id": "wGb4ico2zntx"
      }
    },
    {
      "cell_type": "markdown",
      "source": [
        "Inorder, pre order and post order traversals are shown below."
      ],
      "metadata": {
        "id": "Vkn4fJYC2cat"
      }
    },
    {
      "cell_type": "code",
      "source": [
        "print(\"Inorder traversal:\", numbers_tree.inOrder_traversal())\n",
        "print(\"Pre order traversal:\", numbers_tree.preOrder_traversal())\n",
        "print(\"Post order traversal:\", numbers_tree.postOrder_traversal())"
      ],
      "metadata": {
        "colab": {
          "base_uri": "https://localhost:8080/"
        },
        "id": "kBIqjV7M2W-Y",
        "outputId": "a5e34935-7760-4f71-bced-b82a71b02266"
      },
      "execution_count": 8,
      "outputs": [
        {
          "output_type": "stream",
          "name": "stdout",
          "text": [
            "Inorder traversal: [7, 12, 14, 15, 20, 23, 27, 88]\n",
            "Pre order traversal: [15, 12, 7, 14, 27, 20, 23, 88]\n",
            "Post order traversal: [7, 14, 12, 23, 20, 88, 27, 15]\n"
          ]
        }
      ]
    },
    {
      "cell_type": "code",
      "source": [],
      "metadata": {
        "id": "86fGcijs2Zzn"
      },
      "execution_count": null,
      "outputs": []
    }
  ]
}