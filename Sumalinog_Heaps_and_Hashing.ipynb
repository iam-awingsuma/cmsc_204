{
  "nbformat": 4,
  "nbformat_minor": 0,
  "metadata": {
    "colab": {
      "provenance": [],
      "authorship_tag": "ABX9TyP05e21U/jIaYmPYKOMlKd6",
      "include_colab_link": true
    },
    "kernelspec": {
      "name": "python3",
      "display_name": "Python 3"
    },
    "language_info": {
      "name": "python"
    }
  },
  "cells": [
    {
      "cell_type": "markdown",
      "metadata": {
        "id": "view-in-github",
        "colab_type": "text"
      },
      "source": [
        "<a href=\"https://colab.research.google.com/github/awingsumaBBx19093/cmsc_204/blob/main/Sumalinog_Heaps_and_Hashing.ipynb\" target=\"_parent\"><img src=\"https://colab.research.google.com/assets/colab-badge.svg\" alt=\"Open In Colab\"/></a>"
      ]
    },
    {
      "cell_type": "markdown",
      "source": [
        "## **PROGRAMMING LOG 5:** Heaps and Hashing in Python\n",
        "##### **ALDWIN C. SUMALINOG** | CMSC 204: Data Structures and Algorithms"
      ],
      "metadata": {
        "id": "_bP2CBSm-x2O"
      }
    },
    {
      "cell_type": "markdown",
      "source": [
        "##### Implementation of `MinHeap` with corresponding operations:\n",
        "*   inserting an element through `insert()` function\n",
        "*   deleting an element through `popMin()` function\n",
        "*   retrieving the minimum element through `getMin()` function\n",
        "*   heap property implementation through `_bubbleUp()` and `_bubbleDown()` functions to maintain every node to be less than or equal to its children"
      ],
      "metadata": {
        "id": "1FI2VLKHCMWM"
      }
    },
    {
      "cell_type": "code",
      "execution_count": 28,
      "metadata": {
        "id": "dKD77ETD-oqs"
      },
      "outputs": [],
      "source": [
        "class MinHeap: # class MinHeap declaration\n",
        "    def __init__(self):\n",
        "        # initialize an empty list representing the heap\n",
        "        self.heap = []\n",
        "    # MinHeap insert operation\n",
        "    def insert(self, val):\n",
        "        self.heap.append(val) # add the new element to the end of the list\n",
        "        # maintain heap property,\n",
        "        # bubble up new element to its correct position\n",
        "        self._bubbleUp(len(self.heap)-1)\n",
        "    # MinHeap's function to extract the minimum element\n",
        "    def getMin(self):\n",
        "        # return the minimum element (the first element in the list)\n",
        "        if len(self.heap) > 0:\n",
        "            return self.heap[0] # first element\n",
        "        else:\n",
        "            return None\n",
        "    # MinHeap delete operation\n",
        "    def popMin(self):\n",
        "        if len(self.heap) > 1:\n",
        "            # remove minimum element (first element in the list)\n",
        "            minVal = self.heap[0]\n",
        "            # replace the first element with the last element in the list\n",
        "            self.heap[0] = self.heap[-1] # last element in the list\n",
        "            # remove the last element from the list\n",
        "            del self.heap[-1]\n",
        "            # maintain heap property,\n",
        "            # bubble down new first element to its correct position\n",
        "            self._bubbleDown(0)\n",
        "            # return the minimum element previously removed\n",
        "            return minVal\n",
        "        elif len(self.heap) == 1:\n",
        "            # one element in the heap is present,\n",
        "            # remove and return it\n",
        "            minVal = self.heap[0]\n",
        "            del self.heap[0]\n",
        "            return minVal\n",
        "        else:\n",
        "            return None # empty heap\n",
        "\n",
        "    def _bubbleUp(self, index):\n",
        "        # obtain index of current node's parent\n",
        "        parent = (index-1)//2\n",
        "        # reaching the root of the heap, stop\n",
        "        if index <= 0:\n",
        "            return\n",
        "        # current node is smaller than parent\n",
        "        elif self.heap[index] < self.heap[parent]:\n",
        "            # swap elements/nodes\n",
        "            temp = self.heap[index]\n",
        "            self.heap[index] = self.heap[parent]\n",
        "            self.heap[parent] = temp\n",
        "            # continue bubbling up\n",
        "            self._bubbleUp(parent)\n",
        "\n",
        "    def _bubbleDown(self, index):\n",
        "        # get left child index of current node\n",
        "        left = (index*2)+1\n",
        "        # get right child index of current node\n",
        "        right = (index*2)+2\n",
        "        # assuming current node is the smallest\n",
        "        smallest = index\n",
        "        # check if the left child is less than the current node\n",
        "        if len(self.heap) > left and self.heap[smallest] > self.heap[left]:\n",
        "            smallest = left\n",
        "        # check if the right child is less than\n",
        "        # the current node and the left child\n",
        "        if len(self.heap) > right and self.heap[smallest] > self.heap[right]:\n",
        "            smallest = right\n",
        "        # current node is not the smallest,\n",
        "        if smallest != index:\n",
        "            # swap elements\n",
        "            temp = self.heap[index]\n",
        "            self.heap[index] = self.heap[smallest]\n",
        "            self.heap[smallest] = temp\n",
        "            # continue bubbling down\n",
        "            self._bubbleDown(smallest)"
      ]
    },
    {
      "cell_type": "markdown",
      "source": [
        "##### **Test Case 1 (MinHeap)**\n",
        "*   inserting 4 elements\n",
        "*   popping 2 from the 4 elements\n",
        "*   displaying the minimum element"
      ],
      "metadata": {
        "id": "I24x2U1MLrvt"
      }
    },
    {
      "cell_type": "code",
      "source": [
        "heap = MinHeap() # create new Min Heap\n",
        "\n",
        "# inserting heap elements\n",
        "heap.insert(101) \n",
        "heap.insert(679)\n",
        "heap.insert(559)\n",
        "heap.insert(909)\n",
        "\n",
        "# display heap elements\n",
        "print(\"The heap contains the following elements:\")\n",
        "for i in range(len(heap.heap)): print(heap.heap[i])\n",
        "print(\"Popping elements from the heap:\")\n",
        "print(heap.popMin()) # pop smallest element\n",
        "print(heap.popMin()) # pop next smallest element\n",
        "print(\"Showing the remaining elements:\")\n",
        "for i in range(len(heap.heap)): print(heap.heap[i])\n",
        "print(\"The smallest element is\", heap.getMin())"
      ],
      "metadata": {
        "colab": {
          "base_uri": "https://localhost:8080/"
        },
        "id": "jcKFSlHu_BHV",
        "outputId": "390e76db-6742-4b9c-adfb-6eeac0e4dffa"
      },
      "execution_count": 27,
      "outputs": [
        {
          "output_type": "stream",
          "name": "stdout",
          "text": [
            "The heap contains the following elements:\n",
            "101\n",
            "679\n",
            "559\n",
            "909\n",
            "Popping elements from the heap:\n",
            "101\n",
            "559\n",
            "Showing the remaining elements:\n",
            "679\n",
            "909\n",
            "The smallest element is 679\n"
          ]
        }
      ]
    },
    {
      "cell_type": "markdown",
      "source": [
        "#### Implementing `HashTable` with the following operations:\n",
        "*   inserting key-value pair | removing key-value pair from given key\n",
        "*   returning a key, or none if not present in the hash table"
      ],
      "metadata": {
        "id": "jm82pr2HhaZ6"
      }
    },
    {
      "cell_type": "code",
      "source": [
        "class HashTable:\n",
        "    def __init__(self, size): # initialize hash table with the given size\n",
        "        self.size = size\n",
        "        self.table = [[] for _ in range(size)]\n",
        "\n",
        "    def _hash(self, key):\n",
        "        hash_sum = 0\n",
        "        for char in key:\n",
        "            hash_sum += ord(char)\n",
        "        return hash_sum % self.size\n",
        "\n",
        "    def insert(self, key, value): # insert key-value pair into the hash table\n",
        "        index = self._hash(key)\n",
        "        for pair in self.table[index]:\n",
        "            if pair[0] == key:\n",
        "                pair[1] = value\n",
        "                return\n",
        "        self.table[index].append([key, value])\n",
        "\n",
        "    def retrieve(self, key): # return a value associated to a key\n",
        "        index = self._hash(key)\n",
        "        for pair in self.table[index]:\n",
        "            if pair[0] == key:\n",
        "                return pair[1]\n",
        "        return None # return None if not present in hash table\n",
        "\n",
        "    def remove(self, key): # removing key-value pairs based on given key\n",
        "        index = self._hash(key)\n",
        "        for i, pair in enumerate(self.table[index]):\n",
        "            if pair[0] == key:\n",
        "                self.table[index].pop(i)\n",
        "                return"
      ],
      "metadata": {
        "id": "se-28eHp_HQ1"
      },
      "execution_count": 36,
      "outputs": []
    },
    {
      "cell_type": "markdown",
      "source": [
        "##### **Test Case 1**\n",
        "* inserting 4 key-value pairs\n",
        "* retrieving key-value pairs\n",
        "* removing key-value pairs"
      ],
      "metadata": {
        "id": "9jxsgZH-mzTT"
      }
    },
    {
      "cell_type": "code",
      "source": [
        "hash_table = HashTable(10) # initialize hash table with given size\n",
        "\n",
        "# inserting key-value pairs\n",
        "hash_table.insert(\"John\", 101)\n",
        "hash_table.insert(\"Sean\", 102)\n",
        "hash_table.insert(\"Emman\", 103)\n",
        "\n",
        "# retrieving values\n",
        "print(hash_table.retrieve(\"John\"))\n",
        "print(hash_table.retrieve(\"Sean\"))\n",
        "print(hash_table.retrieve(\"Emman\"))\n",
        "\n",
        "# removing a key-value pair\n",
        "hash_table.remove(\"Sean\")\n",
        "\n",
        "# trying to display the removed key-value pair\n",
        "print(hash_table.retrieve(\"Sean\"))"
      ],
      "metadata": {
        "colab": {
          "base_uri": "https://localhost:8080/"
        },
        "id": "xtvqJEH2mDl3",
        "outputId": "5354b847-b0be-4e43-8fdd-9feac6a8d028"
      },
      "execution_count": 37,
      "outputs": [
        {
          "output_type": "stream",
          "name": "stdout",
          "text": [
            "101\n",
            "102\n",
            "103\n",
            "None\n"
          ]
        }
      ]
    },
    {
      "cell_type": "code",
      "source": [],
      "metadata": {
        "id": "2BX5xyWEnHDM"
      },
      "execution_count": null,
      "outputs": []
    }
  ]
}